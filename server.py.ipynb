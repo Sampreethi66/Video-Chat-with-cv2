{
 "cells": [
  {
   "cell_type": "code",
   "execution_count": 1,
   "id": "43b0b351",
   "metadata": {},
   "outputs": [],
   "source": [
    "import socket\n",
    "import cv2\n",
    "import pickle\n",
    "import struct"
   ]
  },
  {
   "cell_type": "code",
   "execution_count": null,
   "id": "6c5a2b31",
   "metadata": {},
   "outputs": [],
   "source": [
    "cap=cv2.VideoCapture(0)\n",
    "s=socket.socket(socket.AF_INET,socket.SOCK_STREAM)\n",
    "ip=\"192.168.31.40\"\n",
    "port=342\n",
    "\n",
    "s.bind((ip,port))\n",
    "print(\"Binded\")\n",
    "s.listen()\n",
    "\n",
    "o,addr=s.accept()\n",
    "print(\"Connected to {}\".format(addr))\n",
    "while True:\n",
    "    ret,photo=cap.read()\n",
    "    ret,buffer=cv2.imencode('.jpg',photo)\n",
    "    bytedata=pickle.dumps(buffer)\n",
    "    o.send(bytedata)\n",
    "    \n",
    "    x=o.recv(10000)\n",
    "    \n",
    "    try:\n",
    "        data=pickle.loads(x)\n",
    "        data=cv2.imencode(data,cv2.IMREAD_COLOR)\n",
    "        if data is not None:\n",
    "            cv2.imshow('serverphoto',data)\n",
    "            if cv2.waitKey(10)==13:\n",
    "                break\n",
    "                \n",
    "    except:\n",
    "        print(\"waiting for the client\")\n",
    "cv2.destroyAllWindows()"
   ]
  }
 ],
 "metadata": {
  "kernelspec": {
   "display_name": "Python 3",
   "language": "python",
   "name": "python3"
  },
  "language_info": {
   "codemirror_mode": {
    "name": "ipython",
    "version": 3
   },
   "file_extension": ".py",
   "mimetype": "text/x-python",
   "name": "python",
   "nbconvert_exporter": "python",
   "pygments_lexer": "ipython3",
   "version": "3.6.8"
  }
 },
 "nbformat": 4,
 "nbformat_minor": 5
}
